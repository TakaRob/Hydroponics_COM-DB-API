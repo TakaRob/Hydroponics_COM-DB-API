{
 "cells": [
  {
   "cell_type": "markdown",
   "metadata": {},
   "source": [
    "# Graph API Readings from Raspberry Pi\n",
    "This notebook fetches sensor readings from the API and plots them."
   ]
  },
  {
   "cell_type": "code",
   "execution_count": null,
   "metadata": {
    "ExecuteTime": {
     "end_time": "2025-04-18T16:27:56.802285Z",
     "start_time": "2025-04-18T16:27:56.658448Z"
    }
   },
   "outputs": [
    {
     "data": {
      "text/plain": [
       "[{'sensor_id': 'TempProbe-Tank1',\n",
       "  'timestamp': '2025-04-18T16:27:37.227281+00:00',\n",
       "  'type': 'Water temperature',\n",
       "  'value': 20.05},\n",
       " {'sensor_id': 'ECMeter-Tank1',\n",
       "  'timestamp': '2025-04-18T16:27:37.186311+00:00',\n",
       "  'type': 'EC',\n",
       "  'value': 1425.91},\n",
       " {'sensor_id': 'PHProbe-Tank1',\n",
       "  'timestamp': '2025-04-18T16:27:37.158227+00:00',\n",
       "  'type': 'pH',\n",
       "  'value': 7.99},\n",
       " {'sensor_id': 'TempProbe-Tank1',\n",
       "  'timestamp': '2025-04-18T16:26:37.200133+00:00',\n",
       "  'type': 'Water temperature',\n",
       "  'value': 26.39},\n",
       " {'sensor_id': 'ECMeter-Tank1',\n",
       "  'timestamp': '2025-04-18T16:26:37.155195+00:00',\n",
       "  'type': 'EC',\n",
       "  'value': 1980.34},\n",
       " {'sensor_id': 'PHProbe-Tank1',\n",
       "  'timestamp': '2025-04-18T16:26:37.130182+00:00',\n",
       "  'type': 'pH',\n",
       "  'value': 6.72},\n",
       " {'sensor_id': 'TempProbe-Tank1',\n",
       "  'timestamp': '2025-04-18T16:25:37.168194+00:00',\n",
       "  'type': 'Water temperature',\n",
       "  'value': 28.78},\n",
       " {'sensor_id': 'ECMeter-Tank1',\n",
       "  'timestamp': '2025-04-18T16:25:37.127254+00:00',\n",
       "  'type': 'EC',\n",
       "  'value': 1173.53},\n",
       " {'sensor_id': 'PHProbe-Tank1',\n",
       "  'timestamp': '2025-04-18T16:25:37.099105+00:00',\n",
       "  'type': 'pH',\n",
       "  'value': 6.24},\n",
       " {'sensor_id': 'TempProbe-Tank1',\n",
       "  'timestamp': '2025-04-18T16:24:37.141312+00:00',\n",
       "  'type': 'Water temperature',\n",
       "  'value': 20.45},\n",
       " {'sensor_id': 'ECMeter-Tank1',\n",
       "  'timestamp': '2025-04-18T16:24:37.096342+00:00',\n",
       "  'type': 'EC',\n",
       "  'value': 1291.91},\n",
       " {'sensor_id': 'PHProbe-Tank1',\n",
       "  'timestamp': '2025-04-18T16:24:37.071386+00:00',\n",
       "  'type': 'pH',\n",
       "  'value': 7.91},\n",
       " {'sensor_id': 'TempProbe-Tank1',\n",
       "  'timestamp': '2025-04-18T16:23:37.109738+00:00',\n",
       "  'type': 'Water temperature',\n",
       "  'value': 25.01},\n",
       " {'sensor_id': 'ECMeter-Tank1',\n",
       "  'timestamp': '2025-04-18T16:23:37.068791+00:00',\n",
       "  'type': 'EC',\n",
       "  'value': 2000.0},\n",
       " {'sensor_id': 'PHProbe-Tank1',\n",
       "  'timestamp': '2025-04-18T16:23:37.040634+00:00',\n",
       "  'type': 'pH',\n",
       "  'value': 7.0}]"
      ]
     },
     "execution_count": 7,
     "metadata": {},
     "output_type": "execute_result"
    }
   ],
   "source": [
    "import requests\n",
    "import pandas as pd\n",
    "import matplotlib.pyplot as plt\n",
    "\n",
    "# Set your API endpoint here\n",
    "API_URL = 'http://raspberrypi.middlebury.edu:5000/readings'  # Change if needed\n",
    "\n",
    "# Fetch the readings\n",
    "response = requests.get(API_URL)\n",
    "response.raise_for_status()\n",
    "data = response.json()\n",
    "\n",
    "# Display the raw JSON (optional)\n",
    "data = [\n",
    "    {'sensor_id': 'TempProbe-Tank1', 'timestamp': '2025-04-18T16:27:37.227281+00:00', 'type': 'Water temperature', 'value': 20.05},\n",
    "    {'sensor_id': 'ECMeter-Tank1', 'timestamp': '2025-04-18T16:27:37.186311+00:00', 'type': 'EC', 'value': 1425.91},\n",
    "    {'sensor_id': 'PHProbe-Tank1', 'timestamp': '2025-04-18T16:27:37.158227+00:00', 'type': 'pH', 'value': 7.99},\n",
    "    {'sensor_id': 'TempProbe-Tank1', 'timestamp': '2025-04-18T16:26:37.200133+00:00', 'type': 'Water temperature', 'value': 26.39},\n",
    "    {'sensor_id': 'ECMeter-Tank1', 'timestamp': '2025-04-18T16:26:37.155195+00:00', 'type': 'EC', 'value': 1980.34},\n",
    "    {'sensor_id': 'PHProbe-Tank1', 'timestamp': '2025-04-18T16:26:37.130182+00:00', 'type': 'pH', 'value': 6.72},\n",
    "    {'sensor_id': 'TempProbe-Tank1', 'timestamp': '2025-04-18T16:25:37.168194+00:00', 'type': 'Water temperature', 'value': 28.78},\n",
    "    {'sensor_id': 'ECMeter-Tank1', 'timestamp': '2025-04-18T16:25:37.127254+00:00', 'type': 'EC', 'value': 1173.53},\n",
    "    {'sensor_id': 'PHProbe-Tank1', 'timestamp': '2025-04-18T16:25:37.099105+00:00', 'type': 'pH', 'value': 6.24},\n",
    "    {'sensor_id': 'TempProbe-Tank1', 'timestamp': '2025-04-18T16:24:37.141312+00:00', 'type': 'Water temperature', 'value': 20.45},\n",
    "    {'sensor_id': 'ECMeter-Tank1', 'timestamp': '2025-04-18T16:24:37.096342+00:00', 'type': 'EC', 'value': 1291.91},\n",
    "]"
   ]
  },
  {
   "cell_type": "code",
   "execution_count": null,
   "metadata": {
    "ExecuteTime": {
     "end_time": "2025-04-18T16:28:02.382080Z",
     "start_time": "2025-04-18T16:28:02.365007Z"
    }
   },
   "outputs": [
    {
     "data": {
      "text/html": [
       "<div>\n",
       "<style scoped>\n",
       "    .dataframe tbody tr th:only-of-type {\n",
       "        vertical-align: middle;\n",
       "    }\n",
       "\n",
       "    .dataframe tbody tr th {\n",
       "        vertical-align: top;\n",
       "    }\n",
       "\n",
       "    .dataframe thead th {\n",
       "        text-align: right;\n",
       "    }\n",
       "</style>\n",
       "<table border=\"1\" class=\"dataframe\">\n",
       "  <thead>\n",
       "    <tr style=\"text-align: right;\">\n",
       "      <th></th>\n",
       "      <th>sensor_id</th>\n",
       "      <th>timestamp</th>\n",
       "      <th>type</th>\n",
       "      <th>value</th>\n",
       "    </tr>\n",
       "  </thead>\n",
       "  <tbody>\n",
       "    <tr>\n",
       "      <th>14</th>\n",
       "      <td>PHProbe-Tank1</td>\n",
       "      <td>2025-04-18 16:23:37.040634+00:00</td>\n",
       "      <td>pH</td>\n",
       "      <td>7.00</td>\n",
       "    </tr>\n",
       "    <tr>\n",
       "      <th>13</th>\n",
       "      <td>ECMeter-Tank1</td>\n",
       "      <td>2025-04-18 16:23:37.068791+00:00</td>\n",
       "      <td>EC</td>\n",
       "      <td>2000.00</td>\n",
       "    </tr>\n",
       "    <tr>\n",
       "      <th>12</th>\n",
       "      <td>TempProbe-Tank1</td>\n",
       "      <td>2025-04-18 16:23:37.109738+00:00</td>\n",
       "      <td>Water temperature</td>\n",
       "      <td>25.01</td>\n",
       "    </tr>\n",
       "    <tr>\n",
       "      <th>11</th>\n",
       "      <td>PHProbe-Tank1</td>\n",
       "      <td>2025-04-18 16:24:37.071386+00:00</td>\n",
       "      <td>pH</td>\n",
       "      <td>7.91</td>\n",
       "    </tr>\n",
       "    <tr>\n",
       "      <th>10</th>\n",
       "      <td>ECMeter-Tank1</td>\n",
       "      <td>2025-04-18 16:24:37.096342+00:00</td>\n",
       "      <td>EC</td>\n",
       "      <td>1291.91</td>\n",
       "    </tr>\n",
       "  </tbody>\n",
       "</table>\n",
       "</div>"
      ],
      "text/plain": [
       "          sensor_id                        timestamp               type  \\\n",
       "14    PHProbe-Tank1 2025-04-18 16:23:37.040634+00:00                 pH   \n",
       "13    ECMeter-Tank1 2025-04-18 16:23:37.068791+00:00                 EC   \n",
       "12  TempProbe-Tank1 2025-04-18 16:23:37.109738+00:00  Water temperature   \n",
       "11    PHProbe-Tank1 2025-04-18 16:24:37.071386+00:00                 pH   \n",
       "10    ECMeter-Tank1 2025-04-18 16:24:37.096342+00:00                 EC   \n",
       "\n",
       "      value  \n",
       "14     7.00  \n",
       "13  2000.00  \n",
       "12    25.01  \n",
       "11     7.91  \n",
       "10  1291.91  "
      ]
     },
     "execution_count": 8,
     "metadata": {},
     "output_type": "execute_result"
    }
   ],
   "source": [
    "# Convert to DataFrame (adjust based on your API's JSON structure)\n",
    "# For example, if data is a list of dicts with 'timestamp', 'value'\n",
    "df = pd.DataFrame(data)\n",
    "df['timestamp'] = pd.to_datetime(df['timestamp'])\n",
    "df = df.sort_values('timestamp')\n",
    "df.head()"
   ]
  },
  {
   "cell_type": "code",
   "execution_count": null,
   "metadata": {
    "ExecuteTime": {
     "end_time": "2025-04-18T16:27:19.196898Z",
     "start_time": "2025-04-18T16:27:18.928082Z"
    }
   },
   "outputs": [
    {
     "data": {
      "image/png": "[encoded data removed]",
      "text/plain": [
       "<Figure size 1200x600 with 1 Axes>"
      ]
     },
     "metadata": {},
     "output_type": "display_data"
    }
   ],
   "source": [
    "# Plot the readings\n",
    "plt.figure(figsize=(10, 6))\n",
    "\n",
    "for sensor_type in df['type'].unique():\n",
    "    sensor_df = df[df['type'] == sensor_type]\n",
    "    plt.plot(sensor_df['timestamp'], sensor_df['value'], marker='o', label=sensor_type)\n",
    "\n",
    "plt.xlabel('Timestamp')\n",
    "plt.ylabel('Value')\n",
    "plt.title('Sensor Readings Over Time')\n",
    "plt.legend()\n",
    "plt.xticks(rotation=45)\n",
    "plt.tight_layout()\n",
    "plt.show()"
   ]
  }
 ],
 "metadata": {
  "kernelspec": {
   "display_name": "Python 3",
   "language": "python",
   "name": "python3"
  },
  "language_info": {
   "name": "python",
   "version": "3.8"
  }
 },
 "nbformat": 4,
 "nbformat_minor": 2
}
