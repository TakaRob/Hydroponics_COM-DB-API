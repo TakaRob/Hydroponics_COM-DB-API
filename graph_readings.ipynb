{
 "cells": [
  {
   "cell_type": "markdown",
   "metadata": {},
   "source": [
    "# Graph API Readings from Raspberry Pi\n",
    "This notebook fetches sensor readings from the API and plots them."
   ]
  },
  {
   "cell_type": "code",
   "metadata": {
    "jupyter": {
     "is_executing": true
    }
   },
   "source": [
    "import requests\n",
    "import pandas as pd\n",
    "import matplotlib.pyplot as plt\n",
    "\n",
    "# Set your API endpoint here\n",
    "API_URL = 'http://raspberrypi.middlebury.edu:5000/readings'  # Change if needed\n",
    "\n",
    "# Fetch the readings\n",
    "response = requests.get(API_URL)\n",
    "response.raise_for_status()\n",
    "data = response.json()\n",
    "\n",
    "# Display the raw JSON (optional)\n",
    "data"
   ],
   "outputs": [],
   "execution_count": null
  },
  {
   "cell_type": "code",
   "execution_count": null,
   "metadata": {},
   "outputs": [],
   "source": [
    "# Convert to DataFrame (adjust based on your API's JSON structure)\n",
    "# For example, if data is a list of dicts with 'timestamp', 'value'\n",
    "df = pd.DataFrame(data)\n",
    "\n",
    "# If timestamps are present, parse them\n",
    "if 'timestamp' in df.columns:\n",
    "    df['timestamp'] = pd.to_datetime(df['timestamp'])\n",
    "    df = df.sort_values('timestamp')\n",
    "\n",
    "df.head()"
   ]
  },
  {
   "cell_type": "code",
   "execution_count": null,
   "metadata": {},
   "outputs": [],
   "source": [
    "# Plot the readings\n",
    "plt.figure(figsize=(12, 6))\n",
    "if 'timestamp' in df.columns:\n",
    "    plt.plot(df['timestamp'], df['value'], marker='o')\n",
    "    plt.xlabel('Timestamp')\n",
    "else:\n",
    "    plt.plot(df['value'], marker='o')\n",
    "    plt.xlabel('Index')\n",
    "plt.ylabel('Value')\n",
    "plt.title('Sensor Readings from API')\n",
    "plt.grid(True)\n",
    "plt.show()"
   ]
  }
 ],
 "metadata": {
  "kernelspec": {
   "display_name": "Python 3",
   "language": "python",
   "name": "python3"
  },
  "language_info": {
   "name": "python",
   "version": "3.8"
  }
 },
 "nbformat": 4,
 "nbformat_minor": 2
}
